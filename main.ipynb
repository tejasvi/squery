{
  "nbformat": 4,
  "nbformat_minor": 0,
  "metadata": {
    "kernelspec": {
      "display_name": "Python 3",
      "language": "python",
      "name": "python3"
    },
    "language_info": {
      "codemirror_mode": {
        "name": "ipython",
        "version": 3
      },
      "file_extension": ".py",
      "mimetype": "text/x-python",
      "name": "python",
      "nbconvert_exporter": "python",
      "pygments_lexer": "ipython3",
      "version": "3.6.8"
    },
    "colab": {
      "name": "nb.ipynb",
      "provenance": []
    }
  },
  "cells": [
    {
      "cell_type": "code",
      "metadata": {
        "id": "u3Wa-POPRwrU",
        "colab_type": "code",
        "colab": {
          "base_uri": "https://localhost:8080/",
          "height": 52
        },
        "outputId": "624c1d0f-0ccb-4fbe-f8ad-6b2d2edf42a1"
      },
      "source": [
        "!pip -q install gensim"
      ],
      "execution_count": 337,
      "outputs": [
        {
          "output_type": "stream",
          "text": [
            "The line_profiler extension is already loaded. To reload it, use:\n",
            "  %reload_ext line_profiler\n"
          ],
          "name": "stdout"
        }
      ]
    },
    {
      "cell_type": "code",
      "metadata": {
        "id": "jPD3Wm5ixO8X",
        "colab_type": "code",
        "colab": {}
      },
      "source": [
        "!wget -qO \"training data.xlsx\" https://cdn.skillenza.com/files/6a5fa354-63f4-4075-ae9f-ed47b60c41c7/Train-Data.xlsx"
      ],
      "execution_count": 0,
      "outputs": []
    },
    {
      "cell_type": "code",
      "metadata": {
        "id": "8Rv3KG-VxHZC",
        "colab_type": "code",
        "colab": {}
      },
      "source": [
        "import pandas as pd\n",
        "import numpy as np\n",
        "from sklearn.metrics.pairwise import cosine_similarity\n",
        "import matplotlib.pyplot as plt\n",
        "from gensim.models import Word2Vec\n",
        "from gensim.utils import simple_preprocess\n",
        "from sklearn.decomposition import TruncatedSVD\n",
        "from itertools import chain\n",
        "from collections import Counter\n",
        "import regex as re\n",
        "import pickle"
      ],
      "execution_count": 0,
      "outputs": []
    },
    {
      "cell_type": "code",
      "metadata": {
        "id": "ypyctbyHxHZN",
        "colab_type": "code",
        "colab": {}
      },
      "source": [
        "t = pd.read_excel(\"training data.xlsx\")"
      ],
      "execution_count": 0,
      "outputs": []
    },
    {
      "cell_type": "code",
      "metadata": {
        "id": "s0gtHCzL8Iqe",
        "colab_type": "code",
        "colab": {}
      },
      "source": [
        "t[\"wt\"] = np.asarray([int(float(re.sub(\"\\D\", \"\", str(x)))) if re.sub(\"\\D\", \"\", str(x)) != \"\" else -99999 for x in t['Grammage'].values], dtype=int)"
      ],
      "execution_count": 0,
      "outputs": []
    },
    {
      "cell_type": "code",
      "metadata": {
        "id": "1JUdnEJq08aZ",
        "colab_type": "code",
        "colab": {}
      },
      "source": [
        "t.to_pickle(\"train.pkl\")"
      ],
      "execution_count": 0,
      "outputs": []
    },
    {
      "cell_type": "code",
      "metadata": {
        "id": "RZGUfCt3xHZX",
        "colab_type": "code",
        "colab": {}
      },
      "source": [
        "def preproc(s):\n",
        "  return [x for x in gensim.utils.simple_preprocess(s) if x not in {'gm', 'ml', 'kg', 'with', 'for', 'the', 'rs', 'of', 'under', 'less', 'more', 'than', 'lower', 'greater'}]"
      ],
      "execution_count": 0,
      "outputs": []
    },
    {
      "cell_type": "code",
      "metadata": {
        "id": "08wuAbB-xHZb",
        "colab_type": "code",
        "colab": {}
      },
      "source": [
        "desc = t[\"Product Description\"].tolist()\n",
        "dlist = []\n",
        "for i, des in enumerate(desc):\n",
        "    dlist.append(preproc(des))\n",
        "with open('dlist.pkl', 'wb') as f:\n",
        "    pickle.dump(dlist, f)"
      ],
      "execution_count": 0,
      "outputs": []
    },
    {
      "cell_type": "code",
      "metadata": {
        "id": "NSLzQywlxHZe",
        "colab_type": "code",
        "colab": {}
      },
      "source": [
        "model = Word2Vec(dlist, size=50, window=15, min_count=1, workers=8, iter=50)\n",
        "model.save(\"word2vec.model\")"
      ],
      "execution_count": 0,
      "outputs": []
    },
    {
      "cell_type": "code",
      "metadata": {
        "id": "rirpAH9kxHZy",
        "colab_type": "code",
        "colab": {}
      },
      "source": [
        "frequencies = Counter(list(chain.from_iterable(dlist)))\n",
        "with open('freq.pkl', 'wb') as f:\n",
        "    pickle.dump(frequencies, f)"
      ],
      "execution_count": 0,
      "outputs": []
    },
    {
      "cell_type": "code",
      "metadata": {
        "id": "AWOZg0xbxHZ4",
        "colab_type": "code",
        "colab": {}
      },
      "source": [
        "\n",
        "def run_sif(query, sentences2, model, freqs={}, a=0.001): \n",
        "    total_freq = sum(freqs.values())\n",
        "    embeddings = []\n",
        "    tokens1 = [token for token in query if token in model.wv]\n",
        "    if not tokens1: return None\n",
        "    weights1 = [a/(a+freqs.get(token,0)/total_freq) for token in tokens1]\n",
        "    embedding1 = np.zeros((len(sentences2), model.trainables.layer1_size)) + np.average([model.wv[token] for token in tokens1], axis=0, weights=weights1)\n",
        "    \n",
        "    embedding2 = np.zeros((len(sentences2), model.trainables.layer1_size))\n",
        "\n",
        "      # SIF requires us to first collect all sentence embeddings and then perform \n",
        "      # common component analysis.\n",
        "    for i, sent2 in enumerate(sentences2): \n",
        "          \n",
        "          tokens2 = [token for token in sent2 if token in model.wv]             \n",
        "          n = len(set(tokens1) & set(tokens2))/len(tokens1)\n",
        "          \n",
        "          weights2 = [a/(a+freqs.get(token,0)/total_freq) for token in tokens2]          \n",
        "          embedding2[i] = np.average([model.wv[token] for token in tokens2], axis=0, weights=weights2)                  \n",
        "          embedding1[i] += 15*n*embedding2[i]\n",
        "\n",
        "    sims = np.einsum('ij,ij->i', embedding1, embedding2)/(np.linalg.norm(embedding1, axis=1)*np.linalg.norm(embedding2, axis=1))\n",
        "\n",
        "    return sims"
      ],
      "execution_count": 0,
      "outputs": []
    },
    {
      "cell_type": "code",
      "metadata": {
        "id": "_zJYNMz4jq_Q",
        "colab_type": "code",
        "colab": {}
      },
      "source": [
        "def wt(q):\n",
        "    w = i = None\n",
        "    for i, x in enumerate(q):\n",
        "        if x in ('gm', 'ml', 'kg', 'g', 'l', 'lt', 'ltr', 'ml', 'pcs', 'xgm', ):\n",
        "          if i:\n",
        "              try:\n",
        "                  w = int(float(q[i-1]))\n",
        "              except: pass\n",
        "    return w"
      ],
      "execution_count": 0,
      "outputs": []
    },
    {
      "cell_type": "code",
      "metadata": {
        "id": "h3g_merCs0hC",
        "colab_type": "code",
        "colab": {}
      },
      "source": [
        "def cost(q):\n",
        "    more = c = i = None\n",
        "    for i, x in enumerate(q):\n",
        "        if x in ('less', 'lower'):\n",
        "            if i < len(q)-2:\n",
        "                try:\n",
        "                    c = int(float(q[i+2]))\n",
        "                    more = 1\n",
        "                except: pass\n",
        "        elif x == \"under\":\n",
        "            if i < len(q)-1:\n",
        "                try:\n",
        "                    c = int(float(q[i+1]))\n",
        "                    more = 1\n",
        "                except: pass\n",
        "        elif x in ('more', 'greater'):\n",
        "            if i < len(q)-2:\n",
        "                try:\n",
        "                    c = int(float(q[i+2]))\n",
        "                    more = 3\n",
        "                except: pass\n",
        "        if x == 'rs':\n",
        "            if i:\n",
        "                try:\n",
        "                    c = int(float(q[i-1]))\n",
        "                    more = 2\n",
        "                except: pass\n",
        "            else:\n",
        "                try:\n",
        "                    c = int(float(q[i+1]))\n",
        "                    more = 2\n",
        "                except: pass\n",
        "        if c: break\n",
        "    return more, c"
      ],
      "execution_count": 0,
      "outputs": []
    },
    {
      "cell_type": "code",
      "metadata": {
        "id": "SmyRL0BPxHaH",
        "colab_type": "code",
        "colab": {}
      },
      "source": [
        "def run(q, boost=[], b=1, n=10):\n",
        "    qcheck = re.sub(r\"([0-9]+(\\.[0-9]+)?)\",r\" \\1 \", q.lower()).strip().split()\n",
        "    grammage = wt(qcheck)\n",
        "    op, price = cost(qcheck)\n",
        "\n",
        "    q += 4*int(b)*(' ' + ' '.join(boost))\n",
        "    scores = run_sif(preproc(q), dlist, freqs=frequencies, model=model)\n",
        "    df = t.copy()\n",
        "    df[\"scores\"] = scores\n",
        "\n",
        "    #price\n",
        "    if price:\n",
        "        if op==1:\n",
        "            df.loc[df[\"Final Price\"] < price, \"scores\"] += 0.005\n",
        "        elif op==2:\n",
        "            df.loc[df[\"Final Price\"].between(price-10, price+10), \"scores\"] += 0.005\n",
        "        elif op==3:\n",
        "            df.loc[df[\"Final Price\"] > price, \"scores\"] += 0.005\n",
        "\n",
        "    #grammage\n",
        "    if grammage:\n",
        "        df.loc[df[\"wt\"] == grammage, \"scores\"] += 0.005\n",
        "\n",
        "    return df"
      ],
      "execution_count": 0,
      "outputs": []
    },
    {
      "cell_type": "code",
      "metadata": {
        "scrolled": true,
        "id": "nZfqjWLHxHaN",
        "colab_type": "code",
        "colab": {
          "base_uri": "https://localhost:8080/",
          "height": 359
        },
        "outputId": "d83883a5-536c-4d73-e7bc-d342f086ea5b"
      },
      "source": [
        "df=run(\"powder 250 gm 150 rs\", boost=[\"ayghd\"])\n",
        "df.sort_values(\"scores\", ascending=False)[[\"Product Description\", \"Grammage\", \"Final Price\", \"scores\"]].head(10)"
      ],
      "execution_count": 355,
      "outputs": [
        {
          "output_type": "execute_result",
          "data": {
            "text/html": [
              "<div>\n",
              "<style scoped>\n",
              "    .dataframe tbody tr th:only-of-type {\n",
              "        vertical-align: middle;\n",
              "    }\n",
              "\n",
              "    .dataframe tbody tr th {\n",
              "        vertical-align: top;\n",
              "    }\n",
              "\n",
              "    .dataframe thead th {\n",
              "        text-align: right;\n",
              "    }\n",
              "</style>\n",
              "<table border=\"1\" class=\"dataframe\">\n",
              "  <thead>\n",
              "    <tr style=\"text-align: right;\">\n",
              "      <th></th>\n",
              "      <th>Product Description</th>\n",
              "      <th>Grammage</th>\n",
              "      <th>Final Price</th>\n",
              "      <th>scores</th>\n",
              "    </tr>\n",
              "  </thead>\n",
              "  <tbody>\n",
              "    <tr>\n",
              "      <th>2185</th>\n",
              "      <td>AYGHD 500 GM PLPCH DETERGENT POWDER AB OR ADHI...</td>\n",
              "      <td>500 GM</td>\n",
              "      <td>152</td>\n",
              "      <td>1.004234</td>\n",
              "    </tr>\n",
              "    <tr>\n",
              "      <th>3545</th>\n",
              "      <td>TXICJ 250 GM PLPCH SUPER ACTIVE PLUS DETERGENT...</td>\n",
              "      <td>250 GM</td>\n",
              "      <td>154</td>\n",
              "      <td>1.003893</td>\n",
              "    </tr>\n",
              "    <tr>\n",
              "      <th>5199</th>\n",
              "      <td>EDLUQ 80 GM PLPCH SAFEDI MAGIC DETERGENT POWDE...</td>\n",
              "      <td>80 GM</td>\n",
              "      <td>140</td>\n",
              "      <td>1.002644</td>\n",
              "    </tr>\n",
              "    <tr>\n",
              "      <th>4580</th>\n",
              "      <td>KSNGC 250 GM PLPCH SHAKTI DETERGENT POWDER SAF...</td>\n",
              "      <td>250 GM</td>\n",
              "      <td>12</td>\n",
              "      <td>1.001559</td>\n",
              "    </tr>\n",
              "    <tr>\n",
              "      <th>1500</th>\n",
              "      <td>VGMWB 13 GM PLPCH DET POWDER WD ADVANCE FORMULA</td>\n",
              "      <td>13 GM</td>\n",
              "      <td>148</td>\n",
              "      <td>1.001200</td>\n",
              "    </tr>\n",
              "    <tr>\n",
              "      <th>7950</th>\n",
              "      <td>VVMOD 80 GM PLPCH WASHING POWDER WOOSH KARE KH...</td>\n",
              "      <td>80 GM</td>\n",
              "      <td>150</td>\n",
              "      <td>1.000845</td>\n",
              "    </tr>\n",
              "    <tr>\n",
              "      <th>3652</th>\n",
              "      <td>ULBCY 500 GM PLPCH EXCEL DETERGENT POWDER MORE...</td>\n",
              "      <td>500 GM</td>\n",
              "      <td>140</td>\n",
              "      <td>1.000675</td>\n",
              "    </tr>\n",
              "    <tr>\n",
              "      <th>6984</th>\n",
              "      <td>UEQMD 100 GM PLPCH SUPER WASHING POWDER</td>\n",
              "      <td>100 GM</td>\n",
              "      <td>145</td>\n",
              "      <td>1.000543</td>\n",
              "    </tr>\n",
              "    <tr>\n",
              "      <th>709</th>\n",
              "      <td>FAOJA 180 GM PLPCH SUPER WHITE WASHING POWDER</td>\n",
              "      <td>180 GM</td>\n",
              "      <td>154</td>\n",
              "      <td>1.000516</td>\n",
              "    </tr>\n",
              "    <tr>\n",
              "      <th>3284</th>\n",
              "      <td>FQNKJ 250 GM PLPCH SUPER WHITE EXTRA POWER WAS...</td>\n",
              "      <td>250 GM</td>\n",
              "      <td>411</td>\n",
              "      <td>1.000287</td>\n",
              "    </tr>\n",
              "  </tbody>\n",
              "</table>\n",
              "</div>"
            ],
            "text/plain": [
              "                                    Product Description Grammage  Final Price  \\\n",
              "2185  AYGHD 500 GM PLPCH DETERGENT POWDER AB OR ADHI...   500 GM          152   \n",
              "3545  TXICJ 250 GM PLPCH SUPER ACTIVE PLUS DETERGENT...   250 GM          154   \n",
              "5199  EDLUQ 80 GM PLPCH SAFEDI MAGIC DETERGENT POWDE...    80 GM          140   \n",
              "4580  KSNGC 250 GM PLPCH SHAKTI DETERGENT POWDER SAF...   250 GM           12   \n",
              "1500    VGMWB 13 GM PLPCH DET POWDER WD ADVANCE FORMULA    13 GM          148   \n",
              "7950  VVMOD 80 GM PLPCH WASHING POWDER WOOSH KARE KH...    80 GM          150   \n",
              "3652  ULBCY 500 GM PLPCH EXCEL DETERGENT POWDER MORE...   500 GM          140   \n",
              "6984            UEQMD 100 GM PLPCH SUPER WASHING POWDER   100 GM          145   \n",
              "709       FAOJA 180 GM PLPCH SUPER WHITE WASHING POWDER   180 GM          154   \n",
              "3284  FQNKJ 250 GM PLPCH SUPER WHITE EXTRA POWER WAS...   250 GM          411   \n",
              "\n",
              "        scores  \n",
              "2185  1.004234  \n",
              "3545  1.003893  \n",
              "5199  1.002644  \n",
              "4580  1.001559  \n",
              "1500  1.001200  \n",
              "7950  1.000845  \n",
              "3652  1.000675  \n",
              "6984  1.000543  \n",
              "709   1.000516  \n",
              "3284  1.000287  "
            ]
          },
          "metadata": {
            "tags": []
          },
          "execution_count": 355
        }
      ]
    },
    {
      "cell_type": "code",
      "metadata": {
        "id": "BSvAd7Oml_tu",
        "colab_type": "code",
        "colab": {
          "base_uri": "https://localhost:8080/",
          "height": 34
        },
        "outputId": "e36d5382-d559-4029-b65b-d55fdee692f4"
      },
      "source": [
        "%timeit run(\"powder 250 gm 150 rs\", boost=[\"ayghd\"])"
      ],
      "execution_count": 357,
      "outputs": [
        {
          "output_type": "stream",
          "text": [
            "1 loop, best of 3: 575 ms per loop\n"
          ],
          "name": "stdout"
        }
      ]
    }
  ]
}