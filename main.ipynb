{
 "cells": [
  {
   "cell_type": "code",
   "execution_count": 1,
   "metadata": {
    "colab": {
     "base_uri": "https://localhost:8080/",
     "height": 52
    },
    "colab_type": "code",
    "id": "u3Wa-POPRwrU",
    "outputId": "624c1d0f-0ccb-4fbe-f8ad-6b2d2edf42a1"
   },
   "outputs": [
    {
     "name": "stdout",
     "output_type": "stream",
     "text": [
      "\u001b[?25l\r",
      "\u001b[K     |██████▊                         | 10kB 27.8MB/s eta 0:00:01\r",
      "\u001b[K     |█████████████▌                  | 20kB 7.6MB/s eta 0:00:01\r",
      "\u001b[K     |████████████████████▏           | 30kB 2.6MB/s eta 0:00:01\r",
      "\u001b[K     |███████████████████████████     | 40kB 3.0MB/s eta 0:00:01\r",
      "\u001b[K     |████████████████████████████████| 51kB 2.5MB/s \n",
      "\u001b[?25h  Building wheel for python-Levenshtein (setup.py) ... \u001b[?25l\u001b[?25hdone\n"
     ]
    }
   ],
   "source": [
    "!pip -q install gensim fuzzywuzzy python-Levenshtein"
   ]
  },
  {
   "cell_type": "code",
   "execution_count": 2,
   "metadata": {
    "colab": {},
    "colab_type": "code",
    "id": "jPD3Wm5ixO8X"
   },
   "outputs": [],
   "source": [
    "!wget -qO \"training data.xlsx\" https://cdn.skillenza.com/files/6a5fa354-63f4-4075-ae9f-ed47b60c41c7/Train-Data.xlsx"
   ]
  },
  {
   "cell_type": "code",
   "execution_count": 24,
   "metadata": {
    "colab": {},
    "colab_type": "code",
    "id": "8Rv3KG-VxHZC"
   },
   "outputs": [],
   "source": [
    "import pandas as pd\n",
    "import numpy as np\n",
    "from sklearn.metrics.pairwise import cosine_similarity\n",
    "import matplotlib.pyplot as plt\n",
    "from gensim.models import Word2Vec\n",
    "from gensim.utils import simple_preprocess\n",
    "from sklearn.decomposition import TruncatedSVD\n",
    "from itertools import chain\n",
    "from collections import Counter\n",
    "import regex as re\n",
    "import pickle\n",
    "import gensim\n",
    "from fuzzywuzzy import process"
   ]
  },
  {
   "cell_type": "code",
   "execution_count": 10,
   "metadata": {
    "colab": {},
    "colab_type": "code",
    "id": "ypyctbyHxHZN"
   },
   "outputs": [],
   "source": [
    "t = pd.read_excel(\"training data.xlsx\")"
   ]
  },
  {
   "cell_type": "code",
   "execution_count": 11,
   "metadata": {
    "colab": {},
    "colab_type": "code",
    "id": "s0gtHCzL8Iqe"
   },
   "outputs": [],
   "source": [
    "t[\"wt\"] = np.asarray([int(float(re.sub(\"\\D\", \"\", str(x)))) if re.sub(\"\\D\", \"\", str(x)) != \"\" else -99999 for x in t['Grammage'].values], dtype=int)"
   ]
  },
  {
   "cell_type": "code",
   "execution_count": 12,
   "metadata": {
    "colab": {},
    "colab_type": "code",
    "id": "1JUdnEJq08aZ"
   },
   "outputs": [],
   "source": [
    "t.to_pickle(\"train.pkl\")"
   ]
  },
  {
   "cell_type": "code",
   "execution_count": 13,
   "metadata": {
    "colab": {},
    "colab_type": "code",
    "id": "RZGUfCt3xHZX"
   },
   "outputs": [],
   "source": [
    "def preproc(s):\n",
    "  return [x for x in gensim.utils.simple_preprocess(s) if x not in {'gm', 'ml', 'kg', 'with', 'for', 'the', 'rs', 'of', 'under', 'less', 'more', 'than', 'lower', 'greater'}]"
   ]
  },
  {
   "cell_type": "code",
   "execution_count": 14,
   "metadata": {
    "colab": {},
    "colab_type": "code",
    "id": "08wuAbB-xHZb"
   },
   "outputs": [],
   "source": [
    "desc = t[\"Product Description\"].tolist()\n",
    "dlist = []\n",
    "for i, des in enumerate(desc):\n",
    "    dlist.append(preproc(des))\n",
    "with open('dlist.pkl', 'wb') as f:\n",
    "    pickle.dump(dlist, f)"
   ]
  },
  {
   "cell_type": "code",
   "execution_count": 15,
   "metadata": {
    "colab": {},
    "colab_type": "code",
    "id": "NSLzQywlxHZe"
   },
   "outputs": [
    {
     "name": "stderr",
     "output_type": "stream",
     "text": [
      "/usr/local/lib/python3.6/dist-packages/smart_open/smart_open_lib.py:253: UserWarning: This function is deprecated, use smart_open.open instead. See the migration notes for details: https://github.com/RaRe-Technologies/smart_open/blob/master/README.rst#migrating-to-the-new-open-function\n",
      "  'See the migration notes for details: %s' % _MIGRATION_NOTES_URL\n"
     ]
    }
   ],
   "source": [
    "model = Word2Vec(dlist, size=50, window=15, min_count=1, workers=8, iter=50)\n",
    "model.save(\"word2vec.model\")"
   ]
  },
  {
   "cell_type": "code",
   "execution_count": 16,
   "metadata": {
    "colab": {},
    "colab_type": "code",
    "id": "rirpAH9kxHZy"
   },
   "outputs": [],
   "source": [
    "frequencies = Counter(list(chain.from_iterable(dlist)))\n",
    "with open('freq.pkl', 'wb') as f:\n",
    "    pickle.dump(frequencies, f)"
   ]
  },
  {
   "cell_type": "code",
   "execution_count": 64,
   "metadata": {
    "colab": {},
    "colab_type": "code",
    "id": "AWOZg0xbxHZ4"
   },
   "outputs": [],
   "source": [
    "\n",
    "def run_sif(query, sentences2, model, freqs={}, a=0.001, fuzz=3): \n",
    "    total_freq = sum(freqs.values())\n",
    "    embeddings = []\n",
    "    print(query)\n",
    "    tokens1 = []\n",
    "    for token in query:\n",
    "        if token in model.wv:\n",
    "            tokens1.append(token)\n",
    "        else:\n",
    "            for i in process.extract(token, model.wv.vocab.keys(), limit=fuzz):\n",
    "                tokens1.append(i[0])\n",
    "    print(tokens1)         \n",
    "    if not tokens1: return None\n",
    "    weights1 = [a/(a+freqs.get(token,0)/total_freq) for token in tokens1]\n",
    "    embedding1 = np.zeros((len(sentences2), model.trainables.layer1_size)) + np.average([model.wv[token] for token in tokens1], axis=0, weights=weights1)\n",
    "    \n",
    "    embedding2 = np.zeros((len(sentences2), model.trainables.layer1_size))\n",
    "\n",
    "      # SIF requires us to first collect all sentence embeddings and then perform \n",
    "      # common component analysis.\n",
    "    for i, sent2 in enumerate(sentences2): \n",
    "          \n",
    "          tokens2 = [token for token in sent2 if token in model.wv]             \n",
    "          n = len(set(tokens1) & set(tokens2))/len(tokens1)\n",
    "          \n",
    "          weights2 = [a/(a+freqs.get(token,0)/total_freq) for token in tokens2]          \n",
    "          embedding2[i] = np.average([model.wv[token] for token in tokens2], axis=0, weights=weights2)                  \n",
    "          embedding1[i] += 15*n*embedding2[i]\n",
    "\n",
    "    sims = np.einsum('ij,ij->i', embedding1, embedding2)/(np.linalg.norm(embedding1, axis=1)*np.linalg.norm(embedding2, axis=1))\n",
    "\n",
    "    return sims"
   ]
  },
  {
   "cell_type": "code",
   "execution_count": 18,
   "metadata": {
    "colab": {},
    "colab_type": "code",
    "id": "_zJYNMz4jq_Q"
   },
   "outputs": [],
   "source": [
    "def wt(q):\n",
    "    w = i = None\n",
    "    for i, x in enumerate(q):\n",
    "        if x in ('gm', 'ml', 'kg', 'g', 'l', 'lt', 'ltr', 'ml', 'pcs', 'xgm', ):\n",
    "          if i:\n",
    "              try:\n",
    "                  w = int(float(q[i-1]))\n",
    "              except: pass\n",
    "    return w"
   ]
  },
  {
   "cell_type": "code",
   "execution_count": 19,
   "metadata": {
    "colab": {},
    "colab_type": "code",
    "id": "h3g_merCs0hC"
   },
   "outputs": [],
   "source": [
    "def cost(q):\n",
    "    more = c = i = None\n",
    "    for i, x in enumerate(q):\n",
    "        if x in ('less', 'lower'):\n",
    "            if i < len(q)-2:\n",
    "                try:\n",
    "                    c = int(float(q[i+2]))\n",
    "                    more = 1\n",
    "                except: pass\n",
    "        elif x == \"under\":\n",
    "            if i < len(q)-1:\n",
    "                try:\n",
    "                    c = int(float(q[i+1]))\n",
    "                    more = 1\n",
    "                except: pass\n",
    "        elif x in ('more', 'greater'):\n",
    "            if i < len(q)-2:\n",
    "                try:\n",
    "                    c = int(float(q[i+2]))\n",
    "                    more = 3\n",
    "                except: pass\n",
    "        if x == 'rs':\n",
    "            if i:\n",
    "                try:\n",
    "                    c = int(float(q[i-1]))\n",
    "                    more = 2\n",
    "                except: pass\n",
    "            else:\n",
    "                try:\n",
    "                    c = int(float(q[i+1]))\n",
    "                    more = 2\n",
    "                except: pass\n",
    "        if c: break\n",
    "    return more, c"
   ]
  },
  {
   "cell_type": "code",
   "execution_count": 96,
   "metadata": {
    "colab": {},
    "colab_type": "code",
    "id": "SmyRL0BPxHaH"
   },
   "outputs": [],
   "source": [
    "def run(q, boost=[], b=1, n=10, fuzz=3):\n",
    "    qcheck = re.sub(r\"([0-9]+(\\.[0-9]+)?)\",r\" \\1 \", q.lower()).strip().split()\n",
    "    grammage = wt(qcheck)\n",
    "    op, price = cost(qcheck)\n",
    "\n",
    "    q += 4*int(b)*(' ' + ' '.join(boost))\n",
    "    scores = run_sif(preproc(q), dlist, freqs=frequencies, model=model, fuzz=fuzz)\n",
    "    df = t.copy()\n",
    "    df[\"scores\"] = scores\n",
    "    print((scores > 1.005).sum())\n",
    "\n",
    "    #price\n",
    "    if price:\n",
    "        if op==1:\n",
    "            df.loc[df[\"Final Price\"] < price, \"scores\"] += 0.005\n",
    "        elif op==2:\n",
    "            df.loc[df[\"Final Price\"].between(price-10, price+10), \"scores\"] += 0.005\n",
    "        elif op==3:\n",
    "            df.loc[df[\"Final Price\"] > price, \"scores\"] += 0.005\n",
    "\n",
    "    #grammage\n",
    "    if grammage:\n",
    "        df.loc[df[\"wt\"] == grammage, \"scores\"] += 0.005\n",
    "\n",
    "    print((df[\"scores\"]).mean())\n",
    "    return df"
   ]
  },
  {
   "cell_type": "code",
   "execution_count": 98,
   "metadata": {
    "colab": {
     "base_uri": "https://localhost:8080/",
     "height": 359
    },
    "colab_type": "code",
    "id": "nZfqjWLHxHaN",
    "outputId": "d83883a5-536c-4d73-e7bc-d342f086ea5b",
    "scrolled": true
   },
   "outputs": [
    {
     "name": "stdout",
     "output_type": "stream",
     "text": [
      "['sopa']\n",
      "['pa', 'so', 'spa', 'soya', 'soap', 'stop']\n",
      "0\n",
      "0.46958511133042413\n"
     ]
    },
    {
     "data": {
      "text/html": [
       "<div>\n",
       "<style scoped>\n",
       "    .dataframe tbody tr th:only-of-type {\n",
       "        vertical-align: middle;\n",
       "    }\n",
       "\n",
       "    .dataframe tbody tr th {\n",
       "        vertical-align: top;\n",
       "    }\n",
       "\n",
       "    .dataframe thead th {\n",
       "        text-align: right;\n",
       "    }\n",
       "</style>\n",
       "<table border=\"1\" class=\"dataframe\">\n",
       "  <thead>\n",
       "    <tr style=\"text-align: right;\">\n",
       "      <th></th>\n",
       "      <th>Product Description</th>\n",
       "      <th>Grammage</th>\n",
       "      <th>Final Price</th>\n",
       "      <th>scores</th>\n",
       "    </tr>\n",
       "  </thead>\n",
       "  <tbody>\n",
       "    <tr>\n",
       "      <th>2514</th>\n",
       "      <td>FUARE 125M PBT SUN MOIST SUN LOTION SPF50 PA U...</td>\n",
       "      <td>NaN</td>\n",
       "      <td>270</td>\n",
       "      <td>1.002879</td>\n",
       "    </tr>\n",
       "    <tr>\n",
       "      <th>3642</th>\n",
       "      <td>HGXWT 100G PTB SAFESUN UV SCREEN MATTE GEL PA ...</td>\n",
       "      <td>100G</td>\n",
       "      <td>18</td>\n",
       "      <td>1.002766</td>\n",
       "    </tr>\n",
       "    <tr>\n",
       "      <th>5606</th>\n",
       "      <td>WRMFP 60M PTB HRBL SUNCTRL DAILYMOISTURISER SP...</td>\n",
       "      <td>NaN</td>\n",
       "      <td>278</td>\n",
       "      <td>1.002293</td>\n",
       "    </tr>\n",
       "    <tr>\n",
       "      <th>2383</th>\n",
       "      <td>FEBXH 100 GM PTB DE TAN SUN SCREEN GEL CREAM S...</td>\n",
       "      <td>100 GM</td>\n",
       "      <td>811</td>\n",
       "      <td>1.001754</td>\n",
       "    </tr>\n",
       "    <tr>\n",
       "      <th>4593</th>\n",
       "      <td>ROYDQ 100G PTB SUNCARE SPF30 UVA PA+++UVB ALOE...</td>\n",
       "      <td>100G</td>\n",
       "      <td>437</td>\n",
       "      <td>1.001264</td>\n",
       "    </tr>\n",
       "    <tr>\n",
       "      <th>6115</th>\n",
       "      <td>FEBXH 100G PTB MOISTUR SUN BLOCK CREAM SPF 25 ...</td>\n",
       "      <td>100G</td>\n",
       "      <td>85</td>\n",
       "      <td>1.001141</td>\n",
       "    </tr>\n",
       "    <tr>\n",
       "      <th>7484</th>\n",
       "      <td>AQGXS 100 GM PLBOT SOYA SAUCE (B/W-</td>\n",
       "      <td>100 GM</td>\n",
       "      <td>277</td>\n",
       "      <td>0.999917</td>\n",
       "    </tr>\n",
       "    <tr>\n",
       "      <th>6125</th>\n",
       "      <td>OPGHO 50ML PLTUB SUNBLOCK LOTION PA++ SPF 30</td>\n",
       "      <td>50ML</td>\n",
       "      <td>78</td>\n",
       "      <td>0.997501</td>\n",
       "    </tr>\n",
       "    <tr>\n",
       "      <th>1272</th>\n",
       "      <td>FEBXH 40ML CDBOX REFRESHING SUN BLOCK SUN DEFE...</td>\n",
       "      <td>40ML</td>\n",
       "      <td>336</td>\n",
       "      <td>0.997219</td>\n",
       "    </tr>\n",
       "    <tr>\n",
       "      <th>3488</th>\n",
       "      <td>OXMWA 50 GM CDBOX SUNSCREEN GEL PA++ SPF 26</td>\n",
       "      <td>50 GM</td>\n",
       "      <td>86</td>\n",
       "      <td>0.997005</td>\n",
       "    </tr>\n",
       "  </tbody>\n",
       "</table>\n",
       "</div>"
      ],
      "text/plain": [
       "                                    Product Description Grammage  Final Price    scores\n",
       "2514  FUARE 125M PBT SUN MOIST SUN LOTION SPF50 PA U...      NaN          270  1.002879\n",
       "3642  HGXWT 100G PTB SAFESUN UV SCREEN MATTE GEL PA ...     100G           18  1.002766\n",
       "5606  WRMFP 60M PTB HRBL SUNCTRL DAILYMOISTURISER SP...      NaN          278  1.002293\n",
       "2383  FEBXH 100 GM PTB DE TAN SUN SCREEN GEL CREAM S...   100 GM          811  1.001754\n",
       "4593  ROYDQ 100G PTB SUNCARE SPF30 UVA PA+++UVB ALOE...     100G          437  1.001264\n",
       "6115  FEBXH 100G PTB MOISTUR SUN BLOCK CREAM SPF 25 ...     100G           85  1.001141\n",
       "7484                AQGXS 100 GM PLBOT SOYA SAUCE (B/W-   100 GM          277  0.999917\n",
       "6125       OPGHO 50ML PLTUB SUNBLOCK LOTION PA++ SPF 30     50ML           78  0.997501\n",
       "1272  FEBXH 40ML CDBOX REFRESHING SUN BLOCK SUN DEFE...     40ML          336  0.997219\n",
       "3488        OXMWA 50 GM CDBOX SUNSCREEN GEL PA++ SPF 26    50 GM           86  0.997005"
      ]
     },
     "execution_count": 98,
     "metadata": {},
     "output_type": "execute_result"
    }
   ],
   "source": [
    "df=run(\"sopa 270 rs 100 gm\", boost=[], fuzz=6)\n",
    "df.sort_values(\"scores\", ascending=False)[[\"Product Description\", \"Grammage\", \"Final Price\", \"scores\"]].head(10)"
   ]
  },
  {
   "cell_type": "code",
   "execution_count": 65,
   "metadata": {
    "colab": {
     "base_uri": "https://localhost:8080/",
     "height": 34
    },
    "colab_type": "code",
    "id": "BSvAd7Oml_tu",
    "outputId": "e36d5382-d559-4029-b65b-d55fdee692f4"
   },
   "outputs": [
    {
     "name": "stdout",
     "output_type": "stream",
     "text": [
      "['powder', 'tomat', 'ayghd', 'ayghd', 'ayghd', 'ayghd']\n",
      "['powder', 'tomato', 'mat', 'to', 'ayghd', 'ayghd', 'ayghd', 'ayghd']\n",
      "['powder', 'tomat', 'ayghd', 'ayghd', 'ayghd', 'ayghd']\n",
      "['powder', 'tomato', 'mat', 'to', 'ayghd', 'ayghd', 'ayghd', 'ayghd']\n",
      "['powder', 'tomat', 'ayghd', 'ayghd', 'ayghd', 'ayghd']\n",
      "['powder', 'tomato', 'mat', 'to', 'ayghd', 'ayghd', 'ayghd', 'ayghd']\n",
      "['powder', 'tomat', 'ayghd', 'ayghd', 'ayghd', 'ayghd']\n",
      "['powder', 'tomato', 'mat', 'to', 'ayghd', 'ayghd', 'ayghd', 'ayghd']\n",
      "1 loop, best of 3: 792 ms per loop\n"
     ]
    }
   ],
   "source": [
    "%timeit run(\"powder tomat 250 gm 150 rs\", boost=[\"ayghd\"])"
   ]
  },
  {
   "cell_type": "code",
   "execution_count": null,
   "metadata": {},
   "outputs": [],
   "source": []
  }
 ],
 "metadata": {
  "colab": {
   "name": "nb.ipynb",
   "provenance": []
  },
  "kernelspec": {
   "display_name": "Python 3",
   "language": "python",
   "name": "python3"
  },
  "language_info": {
   "codemirror_mode": {
    "name": "ipython",
    "version": 3
   },
   "file_extension": ".py",
   "mimetype": "text/x-python",
   "name": "python",
   "nbconvert_exporter": "python",
   "pygments_lexer": "ipython3",
   "version": "3.6.9"
  }
 },
 "nbformat": 4,
 "nbformat_minor": 1
}
